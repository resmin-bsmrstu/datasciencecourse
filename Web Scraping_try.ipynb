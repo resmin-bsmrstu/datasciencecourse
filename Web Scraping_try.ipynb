{
 "cells": [
  {
   "cell_type": "code",
   "execution_count": 2,
   "metadata": {},
   "outputs": [],
   "source": [
    "import requests\n",
    "from bs4 import BeautifulSoup"
   ]
  },
  {
   "cell_type": "code",
   "execution_count": 3,
   "metadata": {},
   "outputs": [
    {
     "data": {
      "text/plain": [
       "<Response [200]>"
      ]
     },
     "execution_count": 3,
     "metadata": {},
     "output_type": "execute_result"
    }
   ],
   "source": [
    "page = requests.get(\"https://en.wikipedia.org/wiki/Koblenz\")\n",
    "page"
   ]
  },
  {
   "cell_type": "code",
   "execution_count": 4,
   "metadata": {},
   "outputs": [
    {
     "name": "stdout",
     "output_type": "stream",
     "text": [
      "200\n"
     ]
    }
   ],
   "source": [
    "print(page.status_code)"
   ]
  },
  {
   "cell_type": "code",
   "execution_count": 5,
   "metadata": {},
   "outputs": [],
   "source": [
    "#print(page.content)"
   ]
  },
  {
   "cell_type": "code",
   "execution_count": 6,
   "metadata": {},
   "outputs": [],
   "source": [
    "soup = BeautifulSoup(page.content, \"html.parser\")\n",
    "#print(soup.prettify())"
   ]
  },
  {
   "cell_type": "code",
   "execution_count": 7,
   "metadata": {},
   "outputs": [
    {
     "data": {
      "text/plain": [
       "<function TextIOWrapper.close()>"
      ]
     },
     "execution_count": 7,
     "metadata": {},
     "output_type": "execute_result"
    }
   ],
   "source": [
    "# write html to file\n",
    "out = open(\"wiki_data_science.html\",\"w\", encoding = \"utf-8\")\n",
    "out.write(str(soup))\n",
    "out.close"
   ]
  },
  {
   "cell_type": "code",
   "execution_count": 9,
   "metadata": {},
   "outputs": [],
   "source": [
    "# Read in the html file\n",
    "soup = BeautifulSoup(open(\"wiki_data_science.html\", encoding =\"utf-8\"), \"html.parser\")\n",
    "#print(soup.prettify())"
   ]
  },
  {
   "cell_type": "code",
   "execution_count": 10,
   "metadata": {},
   "outputs": [
    {
     "data": {
      "text/plain": [
       "'Koblenz - Wikipedia'"
      ]
     },
     "execution_count": 10,
     "metadata": {},
     "output_type": "execute_result"
    }
   ],
   "source": [
    "#Parsing\n",
    "title = soup.find('title').get_text()\n",
    "title"
   ]
  },
  {
   "cell_type": "code",
   "execution_count": 14,
   "metadata": {},
   "outputs": [],
   "source": [
    "# Navigating in the html doc\n",
    "#list(soup.children) \n"
   ]
  },
  {
   "cell_type": "code",
   "execution_count": 15,
   "metadata": {},
   "outputs": [],
   "source": [
    "# Getting the body tag\n",
    "html = list(soup.children)[2]\n",
    "body = list(html.children)[3]"
   ]
  },
  {
   "cell_type": "code",
   "execution_count": 16,
   "metadata": {},
   "outputs": [
    {
     "data": {
      "text/plain": [
       "'Contents'"
      ]
     },
     "execution_count": 16,
     "metadata": {},
     "output_type": "execute_result"
    }
   ],
   "source": [
    "soup.find('h2').get_text().strip()\n"
   ]
  },
  {
   "cell_type": "code",
   "execution_count": 17,
   "metadata": {},
   "outputs": [
    {
     "data": {
      "text/plain": [
       "<a class=\"mw-jump-link\" href=\"#bodyContent\">Jump to content</a>"
      ]
     },
     "execution_count": 17,
     "metadata": {},
     "output_type": "execute_result"
    }
   ],
   "source": [
    "#Finding first content\n",
    "soup.find('a')"
   ]
  },
  {
   "cell_type": "code",
   "execution_count": 18,
   "metadata": {},
   "outputs": [],
   "source": [
    "header_2 = soup.find_all('h2')"
   ]
  },
  {
   "cell_type": "code",
   "execution_count": 30,
   "metadata": {},
   "outputs": [
    {
     "name": "stdout",
     "output_type": "stream",
     "text": [
      "Contents\n",
      "History[edit]\n",
      "Main sights[edit]\n",
      "Incorporated villages[edit]\n",
      "Economy[edit]\n",
      "Education[edit]\n",
      "Twin towns – sister cities[edit]\n",
      "Popular culture[edit]\n",
      "Notable people[edit]\n",
      "References[edit]\n",
      "Bibliography[edit]\n",
      "External links[edit]\n",
      "Navigation menu\n"
     ]
    }
   ],
   "source": [
    "for item in header_2:\n",
    "    print(item.get_text().strip())"
   ]
  },
  {
   "cell_type": "code",
   "execution_count": 31,
   "metadata": {},
   "outputs": [
    {
     "data": {
      "text/plain": [
       "<tr class=\"mergedtoprow\"><td colspan=\"2\" style=\"text-align:center\"><a class=\"image\" href=\"/wiki/File:Koblenz_im_Buga-Jahr_2011_-_Deutsches_Eck_01.jpg\"><img alt=\"Koblenz im Buga-Jahr 2011 - Deutsches Eck 01.jpg\" data-file-height=\"2500\" data-file-width=\"3703\" decoding=\"async\" height=\"169\" src=\"//upload.wikimedia.org/wikipedia/commons/thumb/c/ca/Koblenz_im_Buga-Jahr_2011_-_Deutsches_Eck_01.jpg/250px-Koblenz_im_Buga-Jahr_2011_-_Deutsches_Eck_01.jpg\" srcset=\"//upload.wikimedia.org/wikipedia/commons/thumb/c/ca/Koblenz_im_Buga-Jahr_2011_-_Deutsches_Eck_01.jpg/375px-Koblenz_im_Buga-Jahr_2011_-_Deutsches_Eck_01.jpg 1.5x, //upload.wikimedia.org/wikipedia/commons/thumb/c/ca/Koblenz_im_Buga-Jahr_2011_-_Deutsches_Eck_01.jpg/500px-Koblenz_im_Buga-Jahr_2011_-_Deutsches_Eck_01.jpg 2x\" width=\"250\"/></a></td></tr>"
      ]
     },
     "execution_count": 31,
     "metadata": {},
     "output_type": "execute_result"
    }
   ],
   "source": [
    "#Using id and class to find tags\n",
    "mbox = body.find(class_ = \"mergedtoprow\")\n",
    "mbox"
   ]
  },
  {
   "cell_type": "code",
   "execution_count": 33,
   "metadata": {},
   "outputs": [
    {
     "data": {
      "text/plain": [
       "[<a class=\"image\" href=\"/wiki/File:Koblenz_im_Buga-Jahr_2011_-_Deutsches_Eck_01.jpg\"><img alt=\"Koblenz im Buga-Jahr 2011 - Deutsches Eck 01.jpg\" data-file-height=\"2500\" data-file-width=\"3703\" decoding=\"async\" height=\"169\" src=\"//upload.wikimedia.org/wikipedia/commons/thumb/c/ca/Koblenz_im_Buga-Jahr_2011_-_Deutsches_Eck_01.jpg/250px-Koblenz_im_Buga-Jahr_2011_-_Deutsches_Eck_01.jpg\" srcset=\"//upload.wikimedia.org/wikipedia/commons/thumb/c/ca/Koblenz_im_Buga-Jahr_2011_-_Deutsches_Eck_01.jpg/375px-Koblenz_im_Buga-Jahr_2011_-_Deutsches_Eck_01.jpg 1.5x, //upload.wikimedia.org/wikipedia/commons/thumb/c/ca/Koblenz_im_Buga-Jahr_2011_-_Deutsches_Eck_01.jpg/500px-Koblenz_im_Buga-Jahr_2011_-_Deutsches_Eck_01.jpg 2x\" width=\"250\"/></a>,\n",
       " <a href=\"/wiki/Germany\" title=\"Germany\">Germany</a>,\n",
       " <a href=\"/wiki/UTC%2B01:00\" title=\"UTC+01:00\">UTC+01:00</a>,\n",
       " <a href=\"/wiki/Central_European_Time\" title=\"Central European Time\">CET</a>,\n",
       " <a class=\"external text\" href=\"https://www.koblenz.de/\" rel=\"nofollow\">koblenz.de</a>]"
      ]
     },
     "execution_count": 33,
     "metadata": {},
     "output_type": "execute_result"
    }
   ],
   "source": [
    " body.select(\".mergedtoprow > td > a\")"
   ]
  },
  {
   "cell_type": "code",
   "execution_count": 34,
   "metadata": {},
   "outputs": [],
   "source": [
    "ref = body.select(\".references li span\")"
   ]
  },
  {
   "cell_type": "code",
   "execution_count": 36,
   "metadata": {},
   "outputs": [
    {
     "name": "stdout",
     "output_type": "stream",
     "text": [
      "^\n",
      "\"Bevölkerungsstand 2019, Kreise, Gemeinden, Verbandsgemeinden\". Statistisches Landesamt Rheinland-Pfalz (in German). 2020.\n",
      "\n",
      "^\n",
      "Older spellings include Covelenz and Cobelenz. In the local dialect the name is as the first historic spelling indicates, in German orthography, Kowelenz.\n",
      "^\n",
      "Chisholm, Hugh, ed. (1911). \"Coblenz\" . Encyclopædia Britannica. 6 (11th ed.). Cambridge University Press. p. 612.\n",
      "\"Coblenz\"\n",
      "\n",
      "^\n",
      "Statistisches Landesamt Rheinland Pfalz\n",
      "^\n",
      "Jefferies, Matthew, Imperial Culture in Germany, 1871–1918 (Basingstoke: Palgrave, 2003)\n",
      "^\n",
      "http://www.rhein-zeitung.de/regionales_artikel,-Bei-Amazon-in-Koblenz-arbeiten-bald-3000-Leute-_arid,494182.html (Rhein-Zeitung newspaper, in German language)\n",
      "^\n",
      "\"Städtepartnerschaften von Koblenz\" (in German). Stadt Koblenz. Retrieved 2015-02-18.\n",
      ". Retrieved 2015-02-18\n",
      "2015-02-18\n",
      "\n",
      "^\n",
      "\"Archived copy\". Archived from the original on 2008-05-13. Retrieved 2010-01-17.CS1 maint: archived copy as title (link) National Yo-Yo Museum, California\n",
      ". Retrieved 2010-01-17\n",
      "2010-01-17\n",
      "\n",
      "CS1 maint: archived copy as title (link)\n",
      "^\n",
      "Karl Baedeker. Les Bords du Rhin. Manuel du voyageur. 5th French Edition, Koblenz, 1862, p.219.\n",
      "^\n",
      "https://www.spiegel.de/plus/tobi-luetke-der-shopify-gruender-expandiert-nach-deutschland-a-00000000-0002-0001-0000-000159308844\n"
     ]
    }
   ],
   "source": [
    "for item in ref:\n",
    "    print(item.get_text().strip())"
   ]
  },
  {
   "cell_type": "code",
   "execution_count": 37,
   "metadata": {},
   "outputs": [
    {
     "data": {
      "text/plain": [
       "[<a class=\"interlanguage-link-target\" href=\"https://af.wikipedia.org/wiki/Koblenz\" hreflang=\"af\" lang=\"af\" title=\"Koblenz – Afrikaans\">Afrikaans</a>,\n",
       " <a class=\"interlanguage-link-target\" href=\"https://ar.wikipedia.org/wiki/%D9%83%D9%88%D8%A8%D9%84%D9%86%D8%AA%D8%B3\" hreflang=\"ar\" lang=\"ar\" title=\"كوبلنتس – Arabic\">العربية</a>,\n",
       " <a class=\"interlanguage-link-target\" href=\"https://an.wikipedia.org/wiki/Coblenza\" hreflang=\"an\" lang=\"an\" title=\"Coblenza – Aragonese\">Aragonés</a>,\n",
       " <a class=\"interlanguage-link-target\" href=\"https://ast.wikipedia.org/wiki/Coblenza\" hreflang=\"ast\" lang=\"ast\" title=\"Coblenza – Asturian\">Asturianu</a>,\n",
       " <a class=\"interlanguage-link-target\" href=\"https://azb.wikipedia.org/wiki/%DA%A9%D9%88%D8%A8%D9%84%D9%86%D8%AA%D8%B3\" hreflang=\"azb\" lang=\"azb\" title=\"کوبلنتس – South Azerbaijani\">تۆرکجه</a>,\n",
       " <a class=\"interlanguage-link-target\" href=\"https://zh-min-nan.wikipedia.org/wiki/Koblenz\" hreflang=\"nan\" lang=\"nan\" title=\"Koblenz – Chinese (Min Nan)\">Bân-lâm-gú</a>,\n",
       " <a class=\"interlanguage-link-target\" href=\"https://ba.wikipedia.org/wiki/%D0%9A%D0%BE%D0%B1%D0%BB%D0%B5%D0%BD%D1%86\" hreflang=\"ba\" lang=\"ba\" title=\"Кобленц – Bashkir\">Башҡортса</a>,\n",
       " <a class=\"interlanguage-link-target\" href=\"https://be.wikipedia.org/wiki/%D0%9A%D0%BE%D0%B1%D0%BB%D0%B5%D0%BD%D1%86\" hreflang=\"be\" lang=\"be\" title=\"Кобленц – Belarusian\">Беларуская</a>,\n",
       " <a class=\"interlanguage-link-target\" href=\"https://be-tarask.wikipedia.org/wiki/%D0%9A%D0%BE%D0%B1%D0%BB%D0%B5%D0%BD%D1%86\" hreflang=\"be-tarask\" lang=\"be-tarask\" title=\"Кобленц – Belarusian (Taraškievica orthography)\">Беларуская (тарашкевіца)‎</a>,\n",
       " <a class=\"interlanguage-link-target\" href=\"https://bg.wikipedia.org/wiki/%D0%9A%D0%BE%D0%B1%D0%BB%D0%B5%D0%BD%D1%86\" hreflang=\"bg\" lang=\"bg\" title=\"Кобленц – Bulgarian\">Български</a>,\n",
       " <a class=\"interlanguage-link-target\" href=\"https://bar.wikipedia.org/wiki/Koblenz\" hreflang=\"bar\" lang=\"bar\" title=\"Koblenz – Bavarian\">Boarisch</a>,\n",
       " <a class=\"interlanguage-link-target\" href=\"https://br.wikipedia.org/wiki/Koblenz\" hreflang=\"br\" lang=\"br\" title=\"Koblenz – Breton\">Brezhoneg</a>,\n",
       " <a class=\"interlanguage-link-target\" href=\"https://ca.wikipedia.org/wiki/Coblen%C3%A7a_(Alemanya)\" hreflang=\"ca\" lang=\"ca\" title=\"Coblença (Alemanya) – Catalan\">Català</a>,\n",
       " <a class=\"interlanguage-link-target\" href=\"https://ceb.wikipedia.org/wiki/Koblenz_(kapital_sa_distrito)\" hreflang=\"ceb\" lang=\"ceb\" title=\"Koblenz (kapital sa distrito) – Cebuano\">Cebuano</a>,\n",
       " <a class=\"interlanguage-link-target\" href=\"https://cs.wikipedia.org/wiki/Koblenz\" hreflang=\"cs\" lang=\"cs\" title=\"Koblenz – Czech\">Čeština</a>,\n",
       " <a class=\"interlanguage-link-target\" href=\"https://cy.wikipedia.org/wiki/Koblenz\" hreflang=\"cy\" lang=\"cy\" title=\"Koblenz – Welsh\">Cymraeg</a>,\n",
       " <a class=\"interlanguage-link-target\" href=\"https://da.wikipedia.org/wiki/Koblenz\" hreflang=\"da\" lang=\"da\" title=\"Koblenz – Danish\">Dansk</a>,\n",
       " <a class=\"interlanguage-link-target\" href=\"https://de.wikipedia.org/wiki/Koblenz\" hreflang=\"de\" lang=\"de\" title=\"Koblenz – German\">Deutsch</a>,\n",
       " <a class=\"interlanguage-link-target\" href=\"https://et.wikipedia.org/wiki/Koblenz\" hreflang=\"et\" lang=\"et\" title=\"Koblenz – Estonian\">Eesti</a>,\n",
       " <a class=\"interlanguage-link-target\" href=\"https://el.wikipedia.org/wiki/%CE%9A%CF%8C%CE%BC%CF%80%CE%BB%CE%B5%CE%BD%CF%84%CF%82\" hreflang=\"el\" lang=\"el\" title=\"Κόμπλεντς – Greek\">Ελληνικά</a>,\n",
       " <a class=\"interlanguage-link-target\" href=\"https://es.wikipedia.org/wiki/Coblenza\" hreflang=\"es\" lang=\"es\" title=\"Coblenza – Spanish\">Español</a>,\n",
       " <a class=\"interlanguage-link-target\" href=\"https://eo.wikipedia.org/wiki/Koblenco\" hreflang=\"eo\" lang=\"eo\" title=\"Koblenco – Esperanto\">Esperanto</a>,\n",
       " <a class=\"interlanguage-link-target\" href=\"https://eu.wikipedia.org/wiki/Koblentza\" hreflang=\"eu\" lang=\"eu\" title=\"Koblentza – Basque\">Euskara</a>,\n",
       " <a class=\"interlanguage-link-target\" href=\"https://fa.wikipedia.org/wiki/%DA%A9%D9%88%D8%A8%D9%84%D9%86%D8%AA%D8%B3\" hreflang=\"fa\" lang=\"fa\" title=\"کوبلنتس – Persian\">فارسی</a>,\n",
       " <a class=\"interlanguage-link-target\" href=\"https://fr.wikipedia.org/wiki/Coblence\" hreflang=\"fr\" lang=\"fr\" title=\"Coblence – French\">Français</a>,\n",
       " <a class=\"interlanguage-link-target\" href=\"https://fy.wikipedia.org/wiki/Koblenz\" hreflang=\"fy\" lang=\"fy\" title=\"Koblenz – Western Frisian\">Frysk</a>,\n",
       " <a class=\"interlanguage-link-target\" href=\"https://ko.wikipedia.org/wiki/%EC%BD%94%EB%B8%94%EB%A0%8C%EC%B8%A0\" hreflang=\"ko\" lang=\"ko\" title=\"코블렌츠 – Korean\">한국어</a>,\n",
       " <a class=\"interlanguage-link-target\" href=\"https://hy.wikipedia.org/wiki/%D4%BF%D5%B8%D5%A2%D5%AC%D5%A5%D5%B6%D6%81\" hreflang=\"hy\" lang=\"hy\" title=\"Կոբլենց – Armenian\">Հայերեն</a>,\n",
       " <a class=\"interlanguage-link-target\" href=\"https://hi.wikipedia.org/wiki/%E0%A4%95%E0%A5%8B%E0%A4%AC%E0%A4%B2%E0%A5%87%E0%A4%82%E0%A4%9C\" hreflang=\"hi\" lang=\"hi\" title=\"कोबलेंज – Hindi\">हिन्दी</a>,\n",
       " <a class=\"interlanguage-link-target\" href=\"https://hsb.wikipedia.org/wiki/Koblenz\" hreflang=\"hsb\" lang=\"hsb\" title=\"Koblenz – Upper Sorbian\">Hornjoserbsce</a>,\n",
       " <a class=\"interlanguage-link-target\" href=\"https://hr.wikipedia.org/wiki/Koblenz\" hreflang=\"hr\" lang=\"hr\" title=\"Koblenz – Croatian\">Hrvatski</a>,\n",
       " <a class=\"interlanguage-link-target\" href=\"https://id.wikipedia.org/wiki/Koblenz,_Rheinland-Pfalz\" hreflang=\"id\" lang=\"id\" title=\"Koblenz, Rheinland-Pfalz – Indonesian\">Bahasa Indonesia</a>,\n",
       " <a class=\"interlanguage-link-target\" href=\"https://ia.wikipedia.org/wiki/Koblenz\" hreflang=\"ia\" lang=\"ia\" title=\"Koblenz – Interlingua\">Interlingua</a>,\n",
       " <a class=\"interlanguage-link-target\" href=\"https://ie.wikipedia.org/wiki/Koblenz\" hreflang=\"ie\" lang=\"ie\" title=\"Koblenz – Interlingue\">Interlingue</a>,\n",
       " <a class=\"interlanguage-link-target\" href=\"https://is.wikipedia.org/wiki/Koblenz\" hreflang=\"is\" lang=\"is\" title=\"Koblenz – Icelandic\">Íslenska</a>,\n",
       " <a class=\"interlanguage-link-target\" href=\"https://it.wikipedia.org/wiki/Coblenza\" hreflang=\"it\" lang=\"it\" title=\"Coblenza – Italian\">Italiano</a>,\n",
       " <a class=\"interlanguage-link-target\" href=\"https://he.wikipedia.org/wiki/%D7%A7%D7%95%D7%91%D7%9C%D7%A0%D7%A5\" hreflang=\"he\" lang=\"he\" title=\"קובלנץ – Hebrew\">עברית</a>,\n",
       " <a class=\"interlanguage-link-target\" href=\"https://ka.wikipedia.org/wiki/%E1%83%99%E1%83%9D%E1%83%91%E1%83%9A%E1%83%94%E1%83%9C%E1%83%AA%E1%83%98\" hreflang=\"ka\" lang=\"ka\" title=\"კობლენცი – Georgian\">ქართული</a>,\n",
       " <a class=\"interlanguage-link-target\" href=\"https://kk.wikipedia.org/wiki/%D0%9A%D0%BE%D0%B1%D0%BB%D0%B5%D0%BD%D1%86\" hreflang=\"kk\" lang=\"kk\" title=\"Кобленц – Kazakh\">Қазақша</a>,\n",
       " <a class=\"interlanguage-link-target\" href=\"https://sw.wikipedia.org/wiki/Koblenz\" hreflang=\"sw\" lang=\"sw\" title=\"Koblenz – Swahili\">Kiswahili</a>,\n",
       " <a class=\"interlanguage-link-target\" href=\"https://ky.wikipedia.org/wiki/%D0%9A%D0%BE%D0%B1%D0%BB%D0%B5%D0%BD%D1%86\" hreflang=\"ky\" lang=\"ky\" title=\"Кобленц – Kyrgyz\">Кыргызча</a>,\n",
       " <a class=\"interlanguage-link-target\" href=\"https://la.wikipedia.org/wiki/Confluentes_(Germania)\" hreflang=\"la\" lang=\"la\" title=\"Confluentes (Germania) – Latin\">Latina</a>,\n",
       " <a class=\"interlanguage-link-target\" href=\"https://lv.wikipedia.org/wiki/Koblenca\" hreflang=\"lv\" lang=\"lv\" title=\"Koblenca – Latvian\">Latviešu</a>,\n",
       " <a class=\"interlanguage-link-target\" href=\"https://lb.wikipedia.org/wiki/Koblenz\" hreflang=\"lb\" lang=\"lb\" title=\"Koblenz – Luxembourgish\">Lëtzebuergesch</a>,\n",
       " <a class=\"interlanguage-link-target\" href=\"https://lt.wikipedia.org/wiki/Koblencas\" hreflang=\"lt\" lang=\"lt\" title=\"Koblencas – Lithuanian\">Lietuvių</a>,\n",
       " <a class=\"interlanguage-link-target\" href=\"https://li.wikipedia.org/wiki/Koblenz\" hreflang=\"li\" lang=\"li\" title=\"Koblenz – Limburgish\">Limburgs</a>,\n",
       " <a class=\"interlanguage-link-target\" href=\"https://lmo.wikipedia.org/wiki/Coblenza\" hreflang=\"lmo\" lang=\"lmo\" title=\"Coblenza – Lombard\">Lumbaart</a>,\n",
       " <a class=\"interlanguage-link-target\" href=\"https://hu.wikipedia.org/wiki/Koblenz\" hreflang=\"hu\" lang=\"hu\" title=\"Koblenz – Hungarian\">Magyar</a>,\n",
       " <a class=\"interlanguage-link-target\" href=\"https://mr.wikipedia.org/wiki/%E0%A4%95%E0%A5%8B%E0%A4%AC%E0%A5%8D%E0%A4%B2%E0%A5%87%E0%A4%A8%E0%A5%8D%E0%A4%9D\" hreflang=\"mr\" lang=\"mr\" title=\"कोब्लेन्झ – Marathi\">मराठी</a>,\n",
       " <a class=\"interlanguage-link-target\" href=\"https://nl.wikipedia.org/wiki/Koblenz_(Duitsland)\" hreflang=\"nl\" lang=\"nl\" title=\"Koblenz (Duitsland) – Dutch\">Nederlands</a>,\n",
       " <a class=\"interlanguage-link-target\" href=\"https://ja.wikipedia.org/wiki/%E3%82%B3%E3%83%96%E3%83%AC%E3%83%B3%E3%83%84\" hreflang=\"ja\" lang=\"ja\" title=\"コブレンツ – Japanese\">日本語</a>,\n",
       " <a class=\"interlanguage-link-target\" href=\"https://ce.wikipedia.org/wiki/%D0%9A%D0%BE%D0%B1%D0%BB%D0%B5%D0%BD%D1%86\" hreflang=\"ce\" lang=\"ce\" title=\"Кобленц – Chechen\">Нохчийн</a>,\n",
       " <a class=\"interlanguage-link-target\" href=\"https://frr.wikipedia.org/wiki/Koblenz\" hreflang=\"frr\" lang=\"frr\" title=\"Koblenz – Northern Frisian\">Nordfriisk</a>,\n",
       " <a class=\"interlanguage-link-target\" href=\"https://no.wikipedia.org/wiki/Koblenz\" hreflang=\"nb\" lang=\"nb\" title=\"Koblenz – Norwegian Bokmål\">Norsk bokmål</a>,\n",
       " <a class=\"interlanguage-link-target\" href=\"https://nn.wikipedia.org/wiki/Koblenz\" hreflang=\"nn\" lang=\"nn\" title=\"Koblenz – Norwegian Nynorsk\">Norsk nynorsk</a>,\n",
       " <a class=\"interlanguage-link-target\" href=\"https://uz.wikipedia.org/wiki/Koblenz\" hreflang=\"uz\" lang=\"uz\" title=\"Koblenz – Uzbek\">Oʻzbekcha/ўзбекча</a>,\n",
       " <a class=\"interlanguage-link-target\" href=\"https://pnb.wikipedia.org/wiki/%DA%A9%D9%88%D8%A8%D9%84%D9%86%D8%B2\" hreflang=\"pnb\" lang=\"pnb\" title=\"کوبلنز – Western Punjabi\">پنجابی</a>,\n",
       " <a class=\"interlanguage-link-target\" href=\"https://pms.wikipedia.org/wiki/Coblensa\" hreflang=\"pms\" lang=\"pms\" title=\"Coblensa – Piedmontese\">Piemontèis</a>,\n",
       " <a class=\"interlanguage-link-target\" href=\"https://nds.wikipedia.org/wiki/Koblenz\" hreflang=\"nds\" lang=\"nds\" title=\"Koblenz – Low German\">Plattdüütsch</a>,\n",
       " <a class=\"interlanguage-link-target\" href=\"https://pl.wikipedia.org/wiki/Koblencja\" hreflang=\"pl\" lang=\"pl\" title=\"Koblencja – Polish\">Polski</a>,\n",
       " <a class=\"interlanguage-link-target\" href=\"https://pt.wikipedia.org/wiki/Coblen%C3%A7a\" hreflang=\"pt\" lang=\"pt\" title=\"Coblença – Portuguese\">Português</a>,\n",
       " <a class=\"interlanguage-link-target\" href=\"https://ksh.wikipedia.org/wiki/Koblenz\" hreflang=\"ksh\" lang=\"ksh\" title=\"Koblenz – Colognian\">Ripoarisch</a>,\n",
       " <a class=\"interlanguage-link-target\" href=\"https://ro.wikipedia.org/wiki/Koblenz\" hreflang=\"ro\" lang=\"ro\" title=\"Koblenz – Romanian\">Română</a>,\n",
       " <a class=\"interlanguage-link-target\" href=\"https://ru.wikipedia.org/wiki/%D0%9A%D0%BE%D0%B1%D0%BB%D0%B5%D0%BD%D1%86\" hreflang=\"ru\" lang=\"ru\" title=\"Кобленц – Russian\">Русский</a>,\n",
       " <a class=\"interlanguage-link-target\" href=\"https://sco.wikipedia.org/wiki/Koblenz\" hreflang=\"sco\" lang=\"sco\" title=\"Koblenz – Scots\">Scots</a>,\n",
       " <a class=\"interlanguage-link-target\" href=\"https://stq.wikipedia.org/wiki/Koblenz\" hreflang=\"stq\" lang=\"stq\" title=\"Koblenz – Saterland Frisian\">Seeltersk</a>,\n",
       " <a class=\"interlanguage-link-target\" href=\"https://sq.wikipedia.org/wiki/Koblenci\" hreflang=\"sq\" lang=\"sq\" title=\"Koblenci – Albanian\">Shqip</a>,\n",
       " <a class=\"interlanguage-link-target\" href=\"https://simple.wikipedia.org/wiki/Koblenz\" hreflang=\"en-simple\" lang=\"en-simple\" title=\"Koblenz – Simple English\">Simple English</a>,\n",
       " <a class=\"interlanguage-link-target\" href=\"https://sk.wikipedia.org/wiki/Koblenz\" hreflang=\"sk\" lang=\"sk\" title=\"Koblenz – Slovak\">Slovenčina</a>,\n",
       " <a class=\"interlanguage-link-target\" href=\"https://sl.wikipedia.org/wiki/Koblenz\" hreflang=\"sl\" lang=\"sl\" title=\"Koblenz – Slovenian\">Slovenščina</a>,\n",
       " <a class=\"interlanguage-link-target\" href=\"https://szl.wikipedia.org/wiki/Koblenz\" hreflang=\"szl\" lang=\"szl\" title=\"Koblenz – Silesian\">Ślůnski</a>,\n",
       " <a class=\"interlanguage-link-target\" href=\"https://sr.wikipedia.org/wiki/%D0%9A%D0%BE%D0%B1%D0%BB%D0%B5%D0%BD%D1%86\" hreflang=\"sr\" lang=\"sr\" title=\"Кобленц – Serbian\">Српски / srpski</a>,\n",
       " <a class=\"interlanguage-link-target\" href=\"https://sh.wikipedia.org/wiki/Koblenz\" hreflang=\"sh\" lang=\"sh\" title=\"Koblenz – Serbo-Croatian\">Srpskohrvatski / српскохрватски</a>,\n",
       " <a class=\"interlanguage-link-target\" href=\"https://fi.wikipedia.org/wiki/Koblenz\" hreflang=\"fi\" lang=\"fi\" title=\"Koblenz – Finnish\">Suomi</a>,\n",
       " <a class=\"interlanguage-link-target\" href=\"https://sv.wikipedia.org/wiki/Koblenz\" hreflang=\"sv\" lang=\"sv\" title=\"Koblenz – Swedish\">Svenska</a>,\n",
       " <a class=\"interlanguage-link-target\" href=\"https://tt.wikipedia.org/wiki/%D0%9A%D0%BE%D0%B1%D0%BB%D0%B5%D0%BD%D1%86\" hreflang=\"tt\" lang=\"tt\" title=\"Кобленц – Tatar\">Татарча/tatarça</a>,\n",
       " <a class=\"interlanguage-link-target\" href=\"https://th.wikipedia.org/wiki/%E0%B9%82%E0%B8%84%E0%B9%80%E0%B8%9A%E0%B8%A5%E0%B9%87%E0%B8%99%E0%B8%97%E0%B8%8B%E0%B9%8C\" hreflang=\"th\" lang=\"th\" title=\"โคเบล็นทซ์ – Thai\">ไทย</a>,\n",
       " <a class=\"interlanguage-link-target\" href=\"https://tr.wikipedia.org/wiki/Koblenz\" hreflang=\"tr\" lang=\"tr\" title=\"Koblenz – Turkish\">Türkçe</a>,\n",
       " <a class=\"interlanguage-link-target\" href=\"https://uk.wikipedia.org/wiki/%D0%9A%D0%BE%D0%B1%D0%BB%D0%B5%D0%BD%D1%86\" hreflang=\"uk\" lang=\"uk\" title=\"Кобленц – Ukrainian\">Українська</a>,\n",
       " <a class=\"interlanguage-link-target\" href=\"https://vi.wikipedia.org/wiki/Koblenz\" hreflang=\"vi\" lang=\"vi\" title=\"Koblenz – Vietnamese\">Tiếng Việt</a>,\n",
       " <a class=\"interlanguage-link-target\" href=\"https://vo.wikipedia.org/wiki/Koblenz\" hreflang=\"vo\" lang=\"vo\" title=\"Koblenz – Volapük\">Volapük</a>,\n",
       " <a class=\"interlanguage-link-target\" href=\"https://vls.wikipedia.org/wiki/Koblenz\" hreflang=\"vls\" lang=\"vls\" title=\"Koblenz – West Flemish\">West-Vlams</a>,\n",
       " <a class=\"interlanguage-link-target\" href=\"https://war.wikipedia.org/wiki/Koblenz\" hreflang=\"war\" lang=\"war\" title=\"Koblenz – Waray\">Winaray</a>,\n",
       " <a class=\"interlanguage-link-target\" href=\"https://wuu.wikipedia.org/wiki/%E7%A7%91%E5%B8%83%E4%BC%A6%E8%8C%A8\" hreflang=\"wuu\" lang=\"wuu\" title=\"科布伦茨 – Wu Chinese\">吴语</a>,\n",
       " <a class=\"interlanguage-link-target\" href=\"https://zh-yue.wikipedia.org/wiki/%E9%AB%98%E6%9C%AC%E6%96%AF\" hreflang=\"yue\" lang=\"yue\" title=\"高本斯 – Cantonese\">粵語</a>,\n",
       " <a class=\"interlanguage-link-target\" href=\"https://diq.wikipedia.org/wiki/Koblenz\" hreflang=\"diq\" lang=\"diq\" title=\"Koblenz – Zazaki\">Zazaki</a>,\n",
       " <a class=\"interlanguage-link-target\" href=\"https://zh.wikipedia.org/wiki/%E7%A7%91%E5%B8%83%E5%80%AB%E8%8C%B2\" hreflang=\"zh\" lang=\"zh\" title=\"科布倫茲 – Chinese\">中文</a>]"
      ]
     },
     "execution_count": 37,
     "metadata": {},
     "output_type": "execute_result"
    }
   ],
   "source": [
    "lang_links = body.find_all('a',class_ =\"interlanguage-link-target\")"
   ]
  },
  {
   "cell_type": "code",
   "execution_count": 39,
   "metadata": {},
   "outputs": [
    {
     "name": "stdout",
     "output_type": "stream",
     "text": [
      "Afrikaans\n",
      "العربية\n",
      "Aragonés\n",
      "Asturianu\n",
      "تۆرکجه\n",
      "Bân-lâm-gú\n",
      "Башҡортса\n",
      "Беларуская\n",
      "Беларуская (тарашкевіца)‎\n",
      "Български\n",
      "Boarisch\n",
      "Brezhoneg\n",
      "Català\n",
      "Cebuano\n",
      "Čeština\n",
      "Cymraeg\n",
      "Dansk\n",
      "Deutsch\n",
      "Eesti\n",
      "Ελληνικά\n",
      "Español\n",
      "Esperanto\n",
      "Euskara\n",
      "فارسی\n",
      "Français\n",
      "Frysk\n",
      "한국어\n",
      "Հայերեն\n",
      "हिन्दी\n",
      "Hornjoserbsce\n",
      "Hrvatski\n",
      "Bahasa Indonesia\n",
      "Interlingua\n",
      "Interlingue\n",
      "Íslenska\n",
      "Italiano\n",
      "עברית\n",
      "ქართული\n",
      "Қазақша\n",
      "Kiswahili\n",
      "Кыргызча\n",
      "Latina\n",
      "Latviešu\n",
      "Lëtzebuergesch\n",
      "Lietuvių\n",
      "Limburgs\n",
      "Lumbaart\n",
      "Magyar\n",
      "मराठी\n",
      "Nederlands\n",
      "日本語\n",
      "Нохчийн\n",
      "Nordfriisk\n",
      "Norsk bokmål\n",
      "Norsk nynorsk\n",
      "Oʻzbekcha/ўзбекча\n",
      "پنجابی\n",
      "Piemontèis\n",
      "Plattdüütsch\n",
      "Polski\n",
      "Português\n",
      "Ripoarisch\n",
      "Română\n",
      "Русский\n",
      "Scots\n",
      "Seeltersk\n",
      "Shqip\n",
      "Simple English\n",
      "Slovenčina\n",
      "Slovenščina\n",
      "Ślůnski\n",
      "Српски / srpski\n",
      "Srpskohrvatski / српскохрватски\n",
      "Suomi\n",
      "Svenska\n",
      "Татарча/tatarça\n",
      "ไทย\n",
      "Türkçe\n",
      "Українська\n",
      "Tiếng Việt\n",
      "Volapük\n",
      "West-Vlams\n",
      "Winaray\n",
      "吴语\n",
      "粵語\n",
      "Zazaki\n",
      "中文\n"
     ]
    }
   ],
   "source": [
    "for item in lang_links:\n",
    "    print(item.get_text().strip())"
   ]
  },
  {
   "cell_type": "code",
   "execution_count": 41,
   "metadata": {},
   "outputs": [
    {
     "name": "stdout",
     "output_type": "stream",
     "text": [
      "1 Afrikaans https://af.wikipedia.org/wiki/Koblenz\n",
      "2 العربية https://ar.wikipedia.org/wiki/%D9%83%D9%88%D8%A8%D9%84%D9%86%D8%AA%D8%B3\n",
      "3 Aragonés https://an.wikipedia.org/wiki/Coblenza\n",
      "4 Asturianu https://ast.wikipedia.org/wiki/Coblenza\n",
      "5 تۆرکجه https://azb.wikipedia.org/wiki/%DA%A9%D9%88%D8%A8%D9%84%D9%86%D8%AA%D8%B3\n",
      "6 Bân-lâm-gú https://zh-min-nan.wikipedia.org/wiki/Koblenz\n",
      "7 Башҡортса https://ba.wikipedia.org/wiki/%D0%9A%D0%BE%D0%B1%D0%BB%D0%B5%D0%BD%D1%86\n",
      "8 Беларуская https://be.wikipedia.org/wiki/%D0%9A%D0%BE%D0%B1%D0%BB%D0%B5%D0%BD%D1%86\n",
      "9 Беларуская (тарашкевіца)‎ https://be-tarask.wikipedia.org/wiki/%D0%9A%D0%BE%D0%B1%D0%BB%D0%B5%D0%BD%D1%86\n",
      "10 Български https://bg.wikipedia.org/wiki/%D0%9A%D0%BE%D0%B1%D0%BB%D0%B5%D0%BD%D1%86\n",
      "11 Boarisch https://bar.wikipedia.org/wiki/Koblenz\n",
      "12 Brezhoneg https://br.wikipedia.org/wiki/Koblenz\n",
      "13 Català https://ca.wikipedia.org/wiki/Coblen%C3%A7a_(Alemanya)\n",
      "14 Cebuano https://ceb.wikipedia.org/wiki/Koblenz_(kapital_sa_distrito)\n",
      "15 Čeština https://cs.wikipedia.org/wiki/Koblenz\n",
      "16 Cymraeg https://cy.wikipedia.org/wiki/Koblenz\n",
      "17 Dansk https://da.wikipedia.org/wiki/Koblenz\n",
      "18 Deutsch https://de.wikipedia.org/wiki/Koblenz\n",
      "19 Eesti https://et.wikipedia.org/wiki/Koblenz\n",
      "20 Ελληνικά https://el.wikipedia.org/wiki/%CE%9A%CF%8C%CE%BC%CF%80%CE%BB%CE%B5%CE%BD%CF%84%CF%82\n",
      "21 Español https://es.wikipedia.org/wiki/Coblenza\n",
      "22 Esperanto https://eo.wikipedia.org/wiki/Koblenco\n",
      "23 Euskara https://eu.wikipedia.org/wiki/Koblentza\n",
      "24 فارسی https://fa.wikipedia.org/wiki/%DA%A9%D9%88%D8%A8%D9%84%D9%86%D8%AA%D8%B3\n",
      "25 Français https://fr.wikipedia.org/wiki/Coblence\n",
      "26 Frysk https://fy.wikipedia.org/wiki/Koblenz\n",
      "27 한국어 https://ko.wikipedia.org/wiki/%EC%BD%94%EB%B8%94%EB%A0%8C%EC%B8%A0\n",
      "28 Հայերեն https://hy.wikipedia.org/wiki/%D4%BF%D5%B8%D5%A2%D5%AC%D5%A5%D5%B6%D6%81\n",
      "29 हिन्दी https://hi.wikipedia.org/wiki/%E0%A4%95%E0%A5%8B%E0%A4%AC%E0%A4%B2%E0%A5%87%E0%A4%82%E0%A4%9C\n",
      "30 Hornjoserbsce https://hsb.wikipedia.org/wiki/Koblenz\n",
      "31 Hrvatski https://hr.wikipedia.org/wiki/Koblenz\n",
      "32 Bahasa Indonesia https://id.wikipedia.org/wiki/Koblenz,_Rheinland-Pfalz\n",
      "33 Interlingua https://ia.wikipedia.org/wiki/Koblenz\n",
      "34 Interlingue https://ie.wikipedia.org/wiki/Koblenz\n",
      "35 Íslenska https://is.wikipedia.org/wiki/Koblenz\n",
      "36 Italiano https://it.wikipedia.org/wiki/Coblenza\n",
      "37 עברית https://he.wikipedia.org/wiki/%D7%A7%D7%95%D7%91%D7%9C%D7%A0%D7%A5\n",
      "38 ქართული https://ka.wikipedia.org/wiki/%E1%83%99%E1%83%9D%E1%83%91%E1%83%9A%E1%83%94%E1%83%9C%E1%83%AA%E1%83%98\n",
      "39 Қазақша https://kk.wikipedia.org/wiki/%D0%9A%D0%BE%D0%B1%D0%BB%D0%B5%D0%BD%D1%86\n",
      "40 Kiswahili https://sw.wikipedia.org/wiki/Koblenz\n",
      "41 Кыргызча https://ky.wikipedia.org/wiki/%D0%9A%D0%BE%D0%B1%D0%BB%D0%B5%D0%BD%D1%86\n",
      "42 Latina https://la.wikipedia.org/wiki/Confluentes_(Germania)\n",
      "43 Latviešu https://lv.wikipedia.org/wiki/Koblenca\n",
      "44 Lëtzebuergesch https://lb.wikipedia.org/wiki/Koblenz\n",
      "45 Lietuvių https://lt.wikipedia.org/wiki/Koblencas\n",
      "46 Limburgs https://li.wikipedia.org/wiki/Koblenz\n",
      "47 Lumbaart https://lmo.wikipedia.org/wiki/Coblenza\n",
      "48 Magyar https://hu.wikipedia.org/wiki/Koblenz\n",
      "49 मराठी https://mr.wikipedia.org/wiki/%E0%A4%95%E0%A5%8B%E0%A4%AC%E0%A5%8D%E0%A4%B2%E0%A5%87%E0%A4%A8%E0%A5%8D%E0%A4%9D\n",
      "50 Nederlands https://nl.wikipedia.org/wiki/Koblenz_(Duitsland)\n",
      "51 日本語 https://ja.wikipedia.org/wiki/%E3%82%B3%E3%83%96%E3%83%AC%E3%83%B3%E3%83%84\n",
      "52 Нохчийн https://ce.wikipedia.org/wiki/%D0%9A%D0%BE%D0%B1%D0%BB%D0%B5%D0%BD%D1%86\n",
      "53 Nordfriisk https://frr.wikipedia.org/wiki/Koblenz\n",
      "54 Norsk bokmål https://no.wikipedia.org/wiki/Koblenz\n",
      "55 Norsk nynorsk https://nn.wikipedia.org/wiki/Koblenz\n",
      "56 Oʻzbekcha/ўзбекча https://uz.wikipedia.org/wiki/Koblenz\n",
      "57 پنجابی https://pnb.wikipedia.org/wiki/%DA%A9%D9%88%D8%A8%D9%84%D9%86%D8%B2\n",
      "58 Piemontèis https://pms.wikipedia.org/wiki/Coblensa\n",
      "59 Plattdüütsch https://nds.wikipedia.org/wiki/Koblenz\n",
      "60 Polski https://pl.wikipedia.org/wiki/Koblencja\n",
      "61 Português https://pt.wikipedia.org/wiki/Coblen%C3%A7a\n",
      "62 Ripoarisch https://ksh.wikipedia.org/wiki/Koblenz\n",
      "63 Română https://ro.wikipedia.org/wiki/Koblenz\n",
      "64 Русский https://ru.wikipedia.org/wiki/%D0%9A%D0%BE%D0%B1%D0%BB%D0%B5%D0%BD%D1%86\n",
      "65 Scots https://sco.wikipedia.org/wiki/Koblenz\n",
      "66 Seeltersk https://stq.wikipedia.org/wiki/Koblenz\n",
      "67 Shqip https://sq.wikipedia.org/wiki/Koblenci\n",
      "68 Simple English https://simple.wikipedia.org/wiki/Koblenz\n",
      "69 Slovenčina https://sk.wikipedia.org/wiki/Koblenz\n",
      "70 Slovenščina https://sl.wikipedia.org/wiki/Koblenz\n",
      "71 Ślůnski https://szl.wikipedia.org/wiki/Koblenz\n",
      "72 Српски / srpski https://sr.wikipedia.org/wiki/%D0%9A%D0%BE%D0%B1%D0%BB%D0%B5%D0%BD%D1%86\n",
      "73 Srpskohrvatski / српскохрватски https://sh.wikipedia.org/wiki/Koblenz\n",
      "74 Suomi https://fi.wikipedia.org/wiki/Koblenz\n",
      "75 Svenska https://sv.wikipedia.org/wiki/Koblenz\n",
      "76 Татарча/tatarça https://tt.wikipedia.org/wiki/%D0%9A%D0%BE%D0%B1%D0%BB%D0%B5%D0%BD%D1%86\n",
      "77 ไทย https://th.wikipedia.org/wiki/%E0%B9%82%E0%B8%84%E0%B9%80%E0%B8%9A%E0%B8%A5%E0%B9%87%E0%B8%99%E0%B8%97%E0%B8%8B%E0%B9%8C\n",
      "78 Türkçe https://tr.wikipedia.org/wiki/Koblenz\n",
      "79 Українська https://uk.wikipedia.org/wiki/%D0%9A%D0%BE%D0%B1%D0%BB%D0%B5%D0%BD%D1%86\n",
      "80 Tiếng Việt https://vi.wikipedia.org/wiki/Koblenz\n",
      "81 Volapük https://vo.wikipedia.org/wiki/Koblenz\n",
      "82 West-Vlams https://vls.wikipedia.org/wiki/Koblenz\n",
      "83 Winaray https://war.wikipedia.org/wiki/Koblenz\n",
      "84 吴语 https://wuu.wikipedia.org/wiki/%E7%A7%91%E5%B8%83%E4%BC%A6%E8%8C%A8\n",
      "85 粵語 https://zh-yue.wikipedia.org/wiki/%E9%AB%98%E6%9C%AC%E6%96%AF\n",
      "86 Zazaki https://diq.wikipedia.org/wiki/Koblenz\n",
      "87 中文 https://zh.wikipedia.org/wiki/%E7%A7%91%E5%B8%83%E5%80%AB%E8%8C%B2\n"
     ]
    }
   ],
   "source": [
    "for item in lang_links:\n",
    "    lang = item.get_text().strip()\n",
    "    \n",
    "    link = str(item).split(\"href=\\\"\")[1].split(\"\\\"\")[0]\n",
    "    print(lang_links.index(item)+1, lang, link)"
   ]
  },
  {
   "cell_type": "code",
   "execution_count": 44,
   "metadata": {},
   "outputs": [],
   "source": [
    "languages=[]\n",
    "links=[]\n",
    "for item in lang_links:\n",
    "    lang = item.get_text().strip()\n",
    "    languages.append(lang)\n",
    "    link = str(item).split(\"href=\\\"\")[1].split(\"\\\"\")[0]\n",
    "    links.append(link)"
   ]
  },
  {
   "cell_type": "code",
   "execution_count": 47,
   "metadata": {},
   "outputs": [],
   "source": [
    "import pandas as pd"
   ]
  },
  {
   "cell_type": "code",
   "execution_count": 49,
   "metadata": {},
   "outputs": [
    {
     "data": {
      "text/html": [
       "<div>\n",
       "<style scoped>\n",
       "    .dataframe tbody tr th:only-of-type {\n",
       "        vertical-align: middle;\n",
       "    }\n",
       "\n",
       "    .dataframe tbody tr th {\n",
       "        vertical-align: top;\n",
       "    }\n",
       "\n",
       "    .dataframe thead th {\n",
       "        text-align: right;\n",
       "    }\n",
       "</style>\n",
       "<table border=\"1\" class=\"dataframe\">\n",
       "  <thead>\n",
       "    <tr style=\"text-align: right;\">\n",
       "      <th></th>\n",
       "      <th>Languages</th>\n",
       "      <th>Links</th>\n",
       "    </tr>\n",
       "  </thead>\n",
       "  <tbody>\n",
       "    <tr>\n",
       "      <th>0</th>\n",
       "      <td>Afrikaans</td>\n",
       "      <td>https://af.wikipedia.org/wiki/Koblenz</td>\n",
       "    </tr>\n",
       "    <tr>\n",
       "      <th>1</th>\n",
       "      <td>العربية</td>\n",
       "      <td>https://ar.wikipedia.org/wiki/%D9%83%D9%88%D8%...</td>\n",
       "    </tr>\n",
       "    <tr>\n",
       "      <th>2</th>\n",
       "      <td>Aragonés</td>\n",
       "      <td>https://an.wikipedia.org/wiki/Coblenza</td>\n",
       "    </tr>\n",
       "    <tr>\n",
       "      <th>3</th>\n",
       "      <td>Asturianu</td>\n",
       "      <td>https://ast.wikipedia.org/wiki/Coblenza</td>\n",
       "    </tr>\n",
       "    <tr>\n",
       "      <th>4</th>\n",
       "      <td>تۆرکجه</td>\n",
       "      <td>https://azb.wikipedia.org/wiki/%DA%A9%D9%88%D8...</td>\n",
       "    </tr>\n",
       "    <tr>\n",
       "      <th>...</th>\n",
       "      <td>...</td>\n",
       "      <td>...</td>\n",
       "    </tr>\n",
       "    <tr>\n",
       "      <th>82</th>\n",
       "      <td>Winaray</td>\n",
       "      <td>https://war.wikipedia.org/wiki/Koblenz</td>\n",
       "    </tr>\n",
       "    <tr>\n",
       "      <th>83</th>\n",
       "      <td>吴语</td>\n",
       "      <td>https://wuu.wikipedia.org/wiki/%E7%A7%91%E5%B8...</td>\n",
       "    </tr>\n",
       "    <tr>\n",
       "      <th>84</th>\n",
       "      <td>粵語</td>\n",
       "      <td>https://zh-yue.wikipedia.org/wiki/%E9%AB%98%E6...</td>\n",
       "    </tr>\n",
       "    <tr>\n",
       "      <th>85</th>\n",
       "      <td>Zazaki</td>\n",
       "      <td>https://diq.wikipedia.org/wiki/Koblenz</td>\n",
       "    </tr>\n",
       "    <tr>\n",
       "      <th>86</th>\n",
       "      <td>中文</td>\n",
       "      <td>https://zh.wikipedia.org/wiki/%E7%A7%91%E5%B8%...</td>\n",
       "    </tr>\n",
       "  </tbody>\n",
       "</table>\n",
       "<p>87 rows × 2 columns</p>\n",
       "</div>"
      ],
      "text/plain": [
       "    Languages                                              Links\n",
       "0   Afrikaans              https://af.wikipedia.org/wiki/Koblenz\n",
       "1     العربية  https://ar.wikipedia.org/wiki/%D9%83%D9%88%D8%...\n",
       "2    Aragonés             https://an.wikipedia.org/wiki/Coblenza\n",
       "3   Asturianu            https://ast.wikipedia.org/wiki/Coblenza\n",
       "4      تۆرکجه  https://azb.wikipedia.org/wiki/%DA%A9%D9%88%D8...\n",
       "..        ...                                                ...\n",
       "82    Winaray             https://war.wikipedia.org/wiki/Koblenz\n",
       "83         吴语  https://wuu.wikipedia.org/wiki/%E7%A7%91%E5%B8...\n",
       "84         粵語  https://zh-yue.wikipedia.org/wiki/%E9%AB%98%E6...\n",
       "85     Zazaki             https://diq.wikipedia.org/wiki/Koblenz\n",
       "86         中文  https://zh.wikipedia.org/wiki/%E7%A7%91%E5%B8%...\n",
       "\n",
       "[87 rows x 2 columns]"
      ]
     },
     "execution_count": 49,
     "metadata": {},
     "output_type": "execute_result"
    }
   ],
   "source": [
    "langs = pd.DataFrame(languages, columns=['Languages'])\n",
    "langs['Links'] = links\n",
    "langs"
   ]
  },
  {
   "cell_type": "code",
   "execution_count": 50,
   "metadata": {},
   "outputs": [
    {
     "name": "stdout",
     "output_type": "stream",
     "text": [
      "Collecting wikipedia\n",
      "  Downloading wikipedia-1.4.0.tar.gz (27 kB)\n",
      "Requirement already satisfied: beautifulsoup4 in h:\\anaconda\\lib\\site-packages (from wikipedia) (4.9.1)\n",
      "Requirement already satisfied: requests<3.0.0,>=2.0.0 in h:\\anaconda\\lib\\site-packages (from wikipedia) (2.24.0)\n",
      "Requirement already satisfied: soupsieve>1.2 in h:\\anaconda\\lib\\site-packages (from beautifulsoup4->wikipedia) (2.0.1)\n",
      "Requirement already satisfied: chardet<4,>=3.0.2 in h:\\anaconda\\lib\\site-packages (from requests<3.0.0,>=2.0.0->wikipedia) (3.0.4)\n",
      "Requirement already satisfied: urllib3!=1.25.0,!=1.25.1,<1.26,>=1.21.1 in h:\\anaconda\\lib\\site-packages (from requests<3.0.0,>=2.0.0->wikipedia) (1.25.9)\n",
      "Requirement already satisfied: idna<3,>=2.5 in h:\\anaconda\\lib\\site-packages (from requests<3.0.0,>=2.0.0->wikipedia) (2.10)\n",
      "Requirement already satisfied: certifi>=2017.4.17 in h:\\anaconda\\lib\\site-packages (from requests<3.0.0,>=2.0.0->wikipedia) (2020.6.20)\n",
      "Building wheels for collected packages: wikipedia\n",
      "  Building wheel for wikipedia (setup.py): started\n",
      "  Building wheel for wikipedia (setup.py): finished with status 'done'\n",
      "  Created wheel for wikipedia: filename=wikipedia-1.4.0-py3-none-any.whl size=11689 sha256=ff8718d7fad8ee230dfafb92c91d84f850a2f7b20d3c2779c0b0ff761285a6ef\n",
      "  Stored in directory: c:\\users\\resmin hossain\\appdata\\local\\pip\\cache\\wheels\\07\\93\\05\\72c05349177dca2e0ba31a33ba4f7907606f7ddef303517c6a\n",
      "Successfully built wikipedia\n",
      "Installing collected packages: wikipedia\n",
      "Successfully installed wikipedia-1.4.0\n"
     ]
    }
   ],
   "source": [
    "#Installing wikipedia library\n",
    "import sys\n",
    "!{sys.executable} -m pip install wikipedia"
   ]
  },
  {
   "cell_type": "code",
   "execution_count": 51,
   "metadata": {},
   "outputs": [],
   "source": [
    "import wikipedia"
   ]
  },
  {
   "cell_type": "code",
   "execution_count": 52,
   "metadata": {},
   "outputs": [
    {
     "name": "stdout",
     "output_type": "stream",
     "text": [
      "Koblenz (German: [ˈkoːblɛnts] (listen); French: Coblence), spelled Coblenz before 1926, is a German city on the banks of the Rhine and of the Moselle, a multi-nation tributary.\n",
      "Koblenz was established as a Roman military post by Drusus around 8 B.C. Its name originates from the Latin (ad) cōnfluentēs, meaning \"(at the) confluence\". The actual confluence is today known as the \"German Corner\", a symbol of the unification of Germany that features an equestrian statue of Emperor William I. The city celebrated its 2000th anniversary in 1992.\n",
      "It ranks in population behind Mainz and Ludwigshafen am Rhein to be the third-largest city in Rhineland-Palatinate. Its usual-residents' population is 112,000 (as at 2015). Koblenz lies in a narrow flood plain between high hill ranges, some reaching mountainous height, and is served by an express rail and autobahn network.  It is part of the populous Rhineland.\n"
     ]
    }
   ],
   "source": [
    "print(wikipedia.summary(\"Koblenz\"))"
   ]
  },
  {
   "cell_type": "code",
   "execution_count": 54,
   "metadata": {},
   "outputs": [
    {
     "name": "stdout",
     "output_type": "stream",
     "text": [
      "Koblenz (German: [ˈkoːblɛnts] (listen); French: Coblence), spelled Coblenz before 1926, is a German city on the banks of the Rhine and of the Moselle, a multi-nation tributary.\n",
      "Koblenz was established as a Roman military post by Drusus around 8 B.C. Its name originates from the Latin (ad) cōnfluentēs, meaning \"(at the) confluence\". The actual confluence is today known as the \"German Corner\", a symbol of the unification of Germany that features an equestrian statue of Emperor William I. The city celebrated its 2000th anniversary in 1992.\n",
      "It ranks in population behind Mainz and Ludwigshafen am Rhein to be the third-largest city in Rhineland-Palatinate.\n"
     ]
    }
   ],
   "source": [
    "print(wikipedia.summary(\"Koblenz\", sentences=4))"
   ]
  },
  {
   "cell_type": "code",
   "execution_count": 55,
   "metadata": {},
   "outputs": [
    {
     "name": "stdout",
     "output_type": "stream",
     "text": [
      "Coblenza o Confluentes (en alemán, Koblenz) es una ciudad de Alemania situada a ambos lados del Rin en su confluencia con el río Mosela. Después de Maguncia y Ludwigshafen, es la tercera ciudad más poblada del estado federado de Renania-Palatinado (Rheinland-Pfalz en alemán), con 112 586 habitantes en 2015.\n"
     ]
    }
   ],
   "source": [
    "wikipedia.set_lang(\"es\")\n",
    "print(wikipedia.summary(\"Koblenz\"))"
   ]
  },
  {
   "cell_type": "code",
   "execution_count": 56,
   "metadata": {},
   "outputs": [
    {
     "data": {
      "text/plain": [
       "'Coblenza'"
      ]
     },
     "execution_count": 56,
     "metadata": {},
     "output_type": "execute_result"
    }
   ],
   "source": [
    "complete_content = wikipedia.page(\"Koblenz\")\n",
    "complete_content.title"
   ]
  },
  {
   "cell_type": "markdown",
   "metadata": {},
   "source": [
    "complete_content.html()"
   ]
  },
  {
   "cell_type": "code",
   "execution_count": 57,
   "metadata": {},
   "outputs": [
    {
     "data": {
      "text/plain": [
       "9"
      ]
     },
     "execution_count": 57,
     "metadata": {},
     "output_type": "execute_result"
    }
   ],
   "source": [
    "d"
   ]
  },
  {
   "cell_type": "code",
   "execution_count": 1,
   "metadata": {},
   "outputs": [],
   "source": [
    "#complete_content.html()"
   ]
  },
  {
   "cell_type": "markdown",
   "metadata": {},
   "source": [
    "page_image = wikipedia.page(\"Koblenz\")\n",
    "print(page_image.images[18])"
   ]
  },
  {
   "cell_type": "code",
   "execution_count": null,
   "metadata": {},
   "outputs": [],
   "source": []
  }
 ],
 "metadata": {
  "kernelspec": {
   "display_name": "Python 3 (ipykernel)",
   "language": "python",
   "name": "python3"
  },
  "language_info": {
   "codemirror_mode": {
    "name": "ipython",
    "version": 3
   },
   "file_extension": ".py",
   "mimetype": "text/x-python",
   "name": "python",
   "nbconvert_exporter": "python",
   "pygments_lexer": "ipython3",
   "version": "3.9.13"
  }
 },
 "nbformat": 4,
 "nbformat_minor": 4
}
