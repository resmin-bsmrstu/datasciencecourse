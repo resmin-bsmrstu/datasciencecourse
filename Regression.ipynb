{
 "cells": [
  {
   "cell_type": "markdown",
   "metadata": {},
   "source": [
    "<h2>Regression Implementation"
   ]
  },
  {
   "cell_type": "code",
   "execution_count": 20,
   "metadata": {},
   "outputs": [],
   "source": [
    "#Importing necessary libraries\n",
    "import numpy as np\n",
    "import matplotlib.pyplot as plt\n",
    "from sklearn.linear_model import LinearRegression\n",
    "import pandas as pd\n",
    "from scipy.stats import pearsonr\n",
    "%matplotlib inline"
   ]
  },
  {
   "cell_type": "code",
   "execution_count": 21,
   "metadata": {},
   "outputs": [
    {
     "name": "stdout",
     "output_type": "stream",
     "text": [
      "Pearson Correlation: \n"
     ]
    },
    {
     "data": {
      "text/plain": [
       "0.7490530789257138"
      ]
     },
     "execution_count": 21,
     "metadata": {},
     "output_type": "execute_result"
    }
   ],
   "source": [
    "#Initializing array\n",
    "x_age = np.array([30, 40, 40, 20, 12, 31, 10])\n",
    "y_body = np.array([160, 160, 170, 50, 110, 160, 100])\n",
    "\n",
    "#Calculating Pearson Correlation\n",
    "corr,_ = pearsonr(x_age,y_body)\n",
    "print(\"Pearson Correlation: \", corr)\n"
   ]
  },
  {
   "cell_type": "code",
   "execution_count": 44,
   "metadata": {},
   "outputs": [
    {
     "data": {
      "text/plain": [
       "<matplotlib.legend.Legend at 0x218266691c0>"
      ]
     },
     "execution_count": 44,
     "metadata": {},
     "output_type": "execute_result"
    },
    {
     "data": {
      "image/png": "[encoded data removed]",
      "text/plain": [
       "<Figure size 432x288 with 1 Axes>"
      ]
     },
     "metadata": {
      "needs_background": "light"
     },
     "output_type": "display_data"
    }
   ],
   "source": [
    "#getting values of y for y = 2x + 90\n",
    "y_reg = np.array([150, 170, 170, 130, 114, 152, 110])\n",
    "\n",
    "#drawing regression line for y = 2x + 90\n",
    "r = plt.scatter(x_age, y_body)\n",
    "plt.xlabel('Age')\n",
    "plt.ylabel('Body size')\n",
    "p = plt.scatter(x_age, y_reg, color='green')\n",
    "plt.plot(x_age, y_reg, color='black')\n",
    "plt.legend((r, p), ('Real y, Predicted y'), scatterpoints = 1, loc = 'lower right', ncol = 3, fontsize = 10)"
   ]
  },
  {
   "cell_type": "code",
   "execution_count": 38,
   "metadata": {},
   "outputs": [
    {
     "data": {
      "text/plain": [
       "LinearRegression()"
      ]
     },
     "execution_count": 38,
     "metadata": {},
     "output_type": "execute_result"
    }
   ],
   "source": [
    "#Regression line\n",
    "x = x_age.reshape(-1, 1)\n",
    "Line = LinearRegression().fit(x, y_body)"
   ]
  },
  {
   "cell_type": "code",
   "execution_count": 29,
   "metadata": {},
   "outputs": [
    {
     "name": "stdout",
     "output_type": "stream",
     "text": [
      "Co-efficient of Determination =  0.5610805150480918\n"
     ]
    }
   ],
   "source": [
    "#Calculationg co-efficient of determination\n",
    "coefficient = Line.score(x, y_body)\n",
    "print('Co-efficient of Determination: ', coefficient)"
   ]
  },
  {
   "cell_type": "code",
   "execution_count": 28,
   "metadata": {},
   "outputs": [
    {
     "name": "stdout",
     "output_type": "stream",
     "text": [
      "b0 =  59.30964939497363\n",
      "b1 =  [2.70400248]\n"
     ]
    }
   ],
   "source": [
    "#Calculating optimal values for b0 and b1\n",
    "print('b0: ', Line.intercept_)\n",
    "print('b1: ', Line.coef_)"
   ]
  },
  {
   "cell_type": "code",
   "execution_count": 31,
   "metadata": {},
   "outputs": [
    {
     "name": "stdout",
     "output_type": "stream",
     "text": [
      "Predicted values of y:  [140.42972386 167.46974868 167.46974868 113.38969904  91.75767918\n",
      " 143.13372634  86.34967422]\n"
     ]
    }
   ],
   "source": [
    "#Getting predicted y value\n",
    "y = Line.predict(x)\n",
    "print('Predicted values of y: ',y)"
   ]
  },
  {
   "cell_type": "code",
   "execution_count": 43,
   "metadata": {},
   "outputs": [
    {
     "data": {
      "image/png": "[encoded data removed]",
      "text/plain": [
       "<Figure size 432x288 with 1 Axes>"
      ]
     },
     "metadata": {
      "needs_background": "light"
     },
     "output_type": "display_data"
    }
   ],
   "source": [
    "#Drawing another regression line\n",
    "Reg = plt.scatter(x_age,y_body)\n",
    "plt.plot(x_age,y, color='red')\n",
    "Pred = plt.scatter(x_age,y, color='green')\n",
    "\n",
    "plt.legend((Reg, Pred), ('Real y, Predicted y'), scatterpoints = 1, loc = 'lower right', ncol = 3, fontsize = 10)\n",
    "plt.show()"
   ]
  },
  {
   "cell_type": "code",
   "execution_count": null,
   "metadata": {},
   "outputs": [],
   "source": []
  }
 ],
 "metadata": {
  "kernelspec": {
   "display_name": "Python 3 (ipykernel)",
   "language": "python",
   "name": "python3"
  },
  "language_info": {
   "codemirror_mode": {
    "name": "ipython",
    "version": 3
   },
   "file_extension": ".py",
   "mimetype": "text/x-python",
   "name": "python",
   "nbconvert_exporter": "python",
   "pygments_lexer": "ipython3",
   "version": "3.9.13"
  }
 },
 "nbformat": 4,
 "nbformat_minor": 4
}
