{
 "cells": [
  {
   "cell_type": "markdown",
   "metadata": {},
   "source": [
    "<h1> 2. Data Visualization"
   ]
  },
  {
   "cell_type": "code",
   "execution_count": 57,
   "metadata": {},
   "outputs": [
    {
     "data": {
      "text/html": [
       "<div>\n",
       "<style scoped>\n",
       "    .dataframe tbody tr th:only-of-type {\n",
       "        vertical-align: middle;\n",
       "    }\n",
       "\n",
       "    .dataframe tbody tr th {\n",
       "        vertical-align: top;\n",
       "    }\n",
       "\n",
       "    .dataframe thead th {\n",
       "        text-align: right;\n",
       "    }\n",
       "</style>\n",
       "<table border=\"1\" class=\"dataframe\">\n",
       "  <thead>\n",
       "    <tr style=\"text-align: right;\">\n",
       "      <th></th>\n",
       "      <th>Happiness_ranking</th>\n",
       "      <th>Country</th>\n",
       "      <th>score</th>\n",
       "      <th>GDP per capital</th>\n",
       "      <th>Social_support</th>\n",
       "      <th>Healthy_life_expectancy</th>\n",
       "      <th>Freedom_to_make_life_choices</th>\n",
       "      <th>Generosity</th>\n",
       "      <th>Perception_of_corruption</th>\n",
       "    </tr>\n",
       "  </thead>\n",
       "  <tbody>\n",
       "    <tr>\n",
       "      <th>0</th>\n",
       "      <td>None</td>\n",
       "      <td>None</td>\n",
       "      <td>None</td>\n",
       "      <td>None</td>\n",
       "      <td>None</td>\n",
       "      <td>None</td>\n",
       "      <td>None</td>\n",
       "      <td>None</td>\n",
       "      <td>None</td>\n",
       "    </tr>\n",
       "    <tr>\n",
       "      <th>1</th>\n",
       "      <td>1</td>\n",
       "      <td>Finland</td>\n",
       "      <td>7.769</td>\n",
       "      <td>1.340</td>\n",
       "      <td>1.587</td>\n",
       "      <td>0.986</td>\n",
       "      <td>0.596</td>\n",
       "      <td>0.153</td>\n",
       "      <td>0.393</td>\n",
       "    </tr>\n",
       "    <tr>\n",
       "      <th>2</th>\n",
       "      <td>2</td>\n",
       "      <td>Denmark</td>\n",
       "      <td>7.600</td>\n",
       "      <td>1.383</td>\n",
       "      <td>1.573</td>\n",
       "      <td>0.996</td>\n",
       "      <td>0.592</td>\n",
       "      <td>0.252</td>\n",
       "      <td>0.410</td>\n",
       "    </tr>\n",
       "    <tr>\n",
       "      <th>3</th>\n",
       "      <td>3</td>\n",
       "      <td>Norway</td>\n",
       "      <td>7.554</td>\n",
       "      <td>1.488</td>\n",
       "      <td>1.582</td>\n",
       "      <td>1.028</td>\n",
       "      <td>0.603</td>\n",
       "      <td>0.271</td>\n",
       "      <td>0.341</td>\n",
       "    </tr>\n",
       "    <tr>\n",
       "      <th>4</th>\n",
       "      <td>4</td>\n",
       "      <td>Iceland</td>\n",
       "      <td>7.494</td>\n",
       "      <td>1.380</td>\n",
       "      <td>1.624</td>\n",
       "      <td>1.026</td>\n",
       "      <td>0.591</td>\n",
       "      <td>0.354</td>\n",
       "      <td>0.118</td>\n",
       "    </tr>\n",
       "    <tr>\n",
       "      <th>...</th>\n",
       "      <td>...</td>\n",
       "      <td>...</td>\n",
       "      <td>...</td>\n",
       "      <td>...</td>\n",
       "      <td>...</td>\n",
       "      <td>...</td>\n",
       "      <td>...</td>\n",
       "      <td>...</td>\n",
       "      <td>...</td>\n",
       "    </tr>\n",
       "    <tr>\n",
       "      <th>152</th>\n",
       "      <td>152</td>\n",
       "      <td>Rwanda</td>\n",
       "      <td>3.334</td>\n",
       "      <td>0.359</td>\n",
       "      <td>0.711</td>\n",
       "      <td>0.614</td>\n",
       "      <td>0.555</td>\n",
       "      <td>0.217</td>\n",
       "      <td>0.411</td>\n",
       "    </tr>\n",
       "    <tr>\n",
       "      <th>153</th>\n",
       "      <td>153</td>\n",
       "      <td>Tanzania</td>\n",
       "      <td>3.231</td>\n",
       "      <td>0.476</td>\n",
       "      <td>0.885</td>\n",
       "      <td>0.499</td>\n",
       "      <td>0.417</td>\n",
       "      <td>0.276</td>\n",
       "      <td>0.147</td>\n",
       "    </tr>\n",
       "    <tr>\n",
       "      <th>154</th>\n",
       "      <td>154</td>\n",
       "      <td>Afghanistan</td>\n",
       "      <td>3.203</td>\n",
       "      <td>0.350</td>\n",
       "      <td>0.517</td>\n",
       "      <td>0.361</td>\n",
       "      <td>0.000</td>\n",
       "      <td>0.158</td>\n",
       "      <td>0.025</td>\n",
       "    </tr>\n",
       "    <tr>\n",
       "      <th>155</th>\n",
       "      <td>155</td>\n",
       "      <td>Central African Republic</td>\n",
       "      <td>3.083</td>\n",
       "      <td>0.026</td>\n",
       "      <td>0.000</td>\n",
       "      <td>0.105</td>\n",
       "      <td>0.225</td>\n",
       "      <td>0.235</td>\n",
       "      <td>0.035</td>\n",
       "    </tr>\n",
       "    <tr>\n",
       "      <th>156</th>\n",
       "      <td>156</td>\n",
       "      <td>South Sudan</td>\n",
       "      <td>2.853</td>\n",
       "      <td>0.306</td>\n",
       "      <td>0.575</td>\n",
       "      <td>0.295</td>\n",
       "      <td>0.010</td>\n",
       "      <td>0.202</td>\n",
       "      <td>0.091</td>\n",
       "    </tr>\n",
       "  </tbody>\n",
       "</table>\n",
       "<p>157 rows × 9 columns</p>\n",
       "</div>"
      ],
      "text/plain": [
       "    Happiness_ranking                   Country  score GDP per capital  \\\n",
       "0                None                      None   None            None   \n",
       "1                   1                   Finland  7.769           1.340   \n",
       "2                   2                   Denmark  7.600           1.383   \n",
       "3                   3                    Norway  7.554           1.488   \n",
       "4                   4                   Iceland  7.494           1.380   \n",
       "..                ...                       ...    ...             ...   \n",
       "152               152                    Rwanda  3.334           0.359   \n",
       "153               153                  Tanzania  3.231           0.476   \n",
       "154               154               Afghanistan  3.203           0.350   \n",
       "155               155  Central African Republic  3.083           0.026   \n",
       "156               156               South Sudan  2.853           0.306   \n",
       "\n",
       "    Social_support Healthy_life_expectancy Freedom_to_make_life_choices  \\\n",
       "0             None                    None                         None   \n",
       "1            1.587                   0.986                        0.596   \n",
       "2            1.573                   0.996                        0.592   \n",
       "3            1.582                   1.028                        0.603   \n",
       "4            1.624                   1.026                        0.591   \n",
       "..             ...                     ...                          ...   \n",
       "152          0.711                   0.614                        0.555   \n",
       "153          0.885                   0.499                        0.417   \n",
       "154          0.517                   0.361                        0.000   \n",
       "155          0.000                   0.105                        0.225   \n",
       "156          0.575                   0.295                        0.010   \n",
       "\n",
       "    Generosity Perception_of_corruption  \n",
       "0         None                     None  \n",
       "1        0.153                    0.393  \n",
       "2        0.252                    0.410  \n",
       "3        0.271                    0.341  \n",
       "4        0.354                    0.118  \n",
       "..         ...                      ...  \n",
       "152      0.217                    0.411  \n",
       "153      0.276                    0.147  \n",
       "154      0.158                    0.025  \n",
       "155      0.235                    0.035  \n",
       "156      0.202                    0.091  \n",
       "\n",
       "[157 rows x 9 columns]"
      ]
     },
     "execution_count": 57,
     "metadata": {},
     "output_type": "execute_result"
    }
   ],
   "source": [
    "#Importing all the necessary libraries\n",
    "import requests\n",
    "import csv\n",
    "import numpy as np\n",
    "import pandas as pd\n",
    "import urllib\n",
    "from bs4 import BeautifulSoup\n",
    "import matplotlib.pyplot as plt\n",
    "import seaborn as sns\n",
    "#Requesting for the website\n",
    "address = \"https://en.wikipedia.org/wiki/World_Happiness_Report\"\n",
    "wikipage = urllib.request.urlopen(address)\n",
    "\n",
    "soup = BeautifulSoup(wikipage,\"html.parser\")\n",
    "#Getting the table\n",
    "tables = soup.find_all(\"table\")\n",
    "table = soup.find('table', class_='wikitable sortable')\n",
    "#Getting the rows of the table to make the dataframe\n",
    "table_rows = table.find_all('tr')\n",
    "\n",
    "data = []\n",
    "\n",
    "for row in table_rows:\n",
    "    data.append([t.text.strip() for t in row.find_all('td')])\n",
    "#Making the dataframe\n",
    "Table = pd.DataFrame(data, columns=['Happiness_ranking', 'Country', 'score', 'GDP per capital', 'Social_support', 'Healthy_life_expectancy', 'Freedom_to_make_life_choices', 'Generosity', 'Perception_of_corruption'])\n",
    "#Table = Table.drop(0)\n",
    "Table"
   ]
  },
  {
   "cell_type": "markdown",
   "metadata": {},
   "source": [
    "<h5> 1. Plot the distribution of happiness score per country."
   ]
  },
  {
   "cell_type": "code",
   "execution_count": 58,
   "metadata": {},
   "outputs": [
    {
     "data": {
      "image/png": "[encoded data removed]",
      "text/plain": [
       "<Figure size 432x288 with 1 Axes>"
      ]
     },
     "metadata": {
      "needs_background": "light"
     },
     "output_type": "display_data"
    }
   ],
   "source": [
    "#Getting the Happiness score and Country Ranking values\n",
    "X = Table.loc[:,'score']\n",
    "Y = Table.loc[:,'Happiness_ranking']\n",
    "#Setting limit for y-axis\n",
    "plot.ylim(0,160)\n",
    "#Plotting the data\n",
    "plot.scatter(X, Y, marker = '.', label = 'Distribution of Happiness')\n",
    "#Setting label for x and y axis\n",
    "plot.xlabel('Happiness Score')\n",
    "plot.ylabel('Country')\n",
    "#Giving a title\n",
    "plot.title('Distribution of Happiness Score per Country')\n",
    "#Naming the plotted point\n",
    "plot.legend(loc = 'upper right',frameon = True)\n",
    "plot.show()"
   ]
  },
  {
   "cell_type": "markdown",
   "metadata": {},
   "source": [
    "<h5> 2. Find 10 least happy countries."
   ]
  },
  {
   "cell_type": "code",
   "execution_count": 59,
   "metadata": {},
   "outputs": [
    {
     "name": "stdout",
     "output_type": "stream",
     "text": [
      "10 least happy Countries are:\n",
      "South Sudan\n",
      "Central African Republic\n",
      "Afghanistan\n",
      "Tanzania\n",
      "Rwanda\n",
      "Yemen\n",
      "Malawi\n",
      "Syria\n",
      "Botswana\n",
      "Haiti\n"
     ]
    }
   ],
   "source": [
    "#Getting length of the Dataframe\n",
    "length = len(Table['Country'])\n",
    "count = 1\n",
    "print('10 least happy Countries are:')\n",
    "#Printing the least happy Country names\n",
    "for i in range(10):\n",
    "    print(Table.loc[length-count,'Country'])\n",
    "    count += 1"
   ]
  },
  {
   "cell_type": "markdown",
   "metadata": {},
   "source": [
    "<h5> 3. What is the average of happiness?"
   ]
  },
  {
   "cell_type": "code",
   "execution_count": 60,
   "metadata": {},
   "outputs": [
    {
     "name": "stdout",
     "output_type": "stream",
     "text": [
      "Average of happiness is: 5.3725928045382165\n"
     ]
    }
   ],
   "source": [
    "#Converting string to float\n",
    "Table['score'] = pd.to_numeric(Table['score'], downcast=\"float\")\n",
    "#Getting the sum of happiness\n",
    "Sum = Table['score'].sum()\n",
    "#Getting the total number n\n",
    "Length =  len(Table['score'])\n",
    "Average = Sum/Length\n",
    "print('Average of happiness is:', Average)"
   ]
  },
  {
   "cell_type": "markdown",
   "metadata": {},
   "source": [
    "<h5> 4. What are the countries above the median"
   ]
  },
  {
   "cell_type": "code",
   "execution_count": 61,
   "metadata": {},
   "outputs": [
    {
     "name": "stdout",
     "output_type": "stream",
     "text": [
      "78.5\n",
      "The countries above the median are:\n"
     ]
    },
    {
     "data": {
      "text/plain": [
       "0                   None\n",
       "1                Finland\n",
       "2                Denmark\n",
       "3                 Norway\n",
       "4                Iceland\n",
       "             ...        \n",
       "73            Montenegro\n",
       "74            Tajikistan\n",
       "75               Croatia\n",
       "76             Hong Kong\n",
       "77    Dominican Republic\n",
       "Name: Country, Length: 78, dtype: object"
      ]
     },
     "execution_count": 61,
     "metadata": {},
     "output_type": "execute_result"
    }
   ],
   "source": [
    "M = (Length)/2\n",
    "print(M)\n",
    "#Mth value is the row of Median country\n",
    "#Countries above median are\n",
    "print('The countries above the median are:')\n",
    "Table.loc[0:M-1,'Country']"
   ]
  },
  {
   "cell_type": "markdown",
   "metadata": {},
   "source": [
    "<h5> 5. Plot the correlation between 2 pairs of variables"
   ]
  },
  {
   "cell_type": "code",
   "execution_count": 62,
   "metadata": {},
   "outputs": [
    {
     "name": "stderr",
     "output_type": "stream",
     "text": [
      "<ipython-input-62-d64e7bdd48b4>:5: SettingWithCopyWarning: \n",
      "A value is trying to be set on a copy of a slice from a DataFrame.\n",
      "Try using .loc[row_indexer,col_indexer] = value instead\n",
      "\n",
      "See the caveats in the documentation: https://pandas.pydata.org/pandas-docs/stable/user_guide/indexing.html#returning-a-view-versus-a-copy\n",
      "  correlation['Happiness_ranking'] = correlation['Happiness_ranking'].astype(float)\n",
      "<ipython-input-62-d64e7bdd48b4>:6: SettingWithCopyWarning: \n",
      "A value is trying to be set on a copy of a slice from a DataFrame.\n",
      "Try using .loc[row_indexer,col_indexer] = value instead\n",
      "\n",
      "See the caveats in the documentation: https://pandas.pydata.org/pandas-docs/stable/user_guide/indexing.html#returning-a-view-versus-a-copy\n",
      "  correlation['GDP per capital'] = correlation['GDP per capital'].astype(float)\n",
      "<ipython-input-62-d64e7bdd48b4>:7: SettingWithCopyWarning: \n",
      "A value is trying to be set on a copy of a slice from a DataFrame.\n",
      "Try using .loc[row_indexer,col_indexer] = value instead\n",
      "\n",
      "See the caveats in the documentation: https://pandas.pydata.org/pandas-docs/stable/user_guide/indexing.html#returning-a-view-versus-a-copy\n",
      "  correlation['Social_support'] = correlation['Social_support'].astype(float)\n",
      "<ipython-input-62-d64e7bdd48b4>:8: SettingWithCopyWarning: \n",
      "A value is trying to be set on a copy of a slice from a DataFrame.\n",
      "Try using .loc[row_indexer,col_indexer] = value instead\n",
      "\n",
      "See the caveats in the documentation: https://pandas.pydata.org/pandas-docs/stable/user_guide/indexing.html#returning-a-view-versus-a-copy\n",
      "  correlation['Healthy_life_expectancy'] = correlation['Healthy_life_expectancy'].astype(float)\n",
      "<ipython-input-62-d64e7bdd48b4>:9: SettingWithCopyWarning: \n",
      "A value is trying to be set on a copy of a slice from a DataFrame.\n",
      "Try using .loc[row_indexer,col_indexer] = value instead\n",
      "\n",
      "See the caveats in the documentation: https://pandas.pydata.org/pandas-docs/stable/user_guide/indexing.html#returning-a-view-versus-a-copy\n",
      "  correlation['Freedom_to_make_life_choices'] = correlation['Freedom_to_make_life_choices'].astype(float)\n",
      "<ipython-input-62-d64e7bdd48b4>:10: SettingWithCopyWarning: \n",
      "A value is trying to be set on a copy of a slice from a DataFrame.\n",
      "Try using .loc[row_indexer,col_indexer] = value instead\n",
      "\n",
      "See the caveats in the documentation: https://pandas.pydata.org/pandas-docs/stable/user_guide/indexing.html#returning-a-view-versus-a-copy\n",
      "  correlation['Generosity'] = correlation['Generosity'].astype(float)\n",
      "<ipython-input-62-d64e7bdd48b4>:11: SettingWithCopyWarning: \n",
      "A value is trying to be set on a copy of a slice from a DataFrame.\n",
      "Try using .loc[row_indexer,col_indexer] = value instead\n",
      "\n",
      "See the caveats in the documentation: https://pandas.pydata.org/pandas-docs/stable/user_guide/indexing.html#returning-a-view-versus-a-copy\n",
      "  correlation['Perception_of_corruption'] = correlation['Perception_of_corruption'].astype(float)\n"
     ]
    },
    {
     "data": {
      "text/plain": [
       "<matplotlib.axes._subplots.AxesSubplot at 0x1c916fb18b0>"
      ]
     },
     "execution_count": 62,
     "metadata": {},
     "output_type": "execute_result"
    },
    {
     "data": {
      "image/png": "[encoded data removed]",
      "text/plain": [
       "<Figure size 576x576 with 2 Axes>"
      ]
     },
     "metadata": {
      "needs_background": "light"
     },
     "output_type": "display_data"
    }
   ],
   "source": [
    "#Getting dataframe with only numerics for correlation matrix\n",
    "correlation = Table[['Happiness_ranking', 'score', 'GDP per capital', 'Social_support', 'Healthy_life_expectancy', 'Freedom_to_make_life_choices', 'Generosity', 'Perception_of_corruption']]\n",
    "\n",
    "#Converting the values to float\n",
    "correlation['Happiness_ranking'] = correlation['Happiness_ranking'].astype(float)\n",
    "correlation['GDP per capital'] = correlation['GDP per capital'].astype(float)\n",
    "correlation['Social_support'] = correlation['Social_support'].astype(float)\n",
    "correlation['Healthy_life_expectancy'] = correlation['Healthy_life_expectancy'].astype(float)\n",
    "correlation['Freedom_to_make_life_choices'] = correlation['Freedom_to_make_life_choices'].astype(float)\n",
    "correlation['Generosity'] = correlation['Generosity'].astype(float)\n",
    "correlation['Perception_of_corruption'] = correlation['Perception_of_corruption'].astype(float)\n",
    "\n",
    "#Plotting the correlation\n",
    "plot.figure(figsize=(8,8))\n",
    "sns.heatmap(correlation.corr(), annot=True, cmap='PiYG')"
   ]
  },
  {
   "cell_type": "code",
   "execution_count": null,
   "metadata": {},
   "outputs": [],
   "source": []
  },
  {
   "cell_type": "code",
   "execution_count": null,
   "metadata": {},
   "outputs": [],
   "source": []
  }
 ],
 "metadata": {
  "kernelspec": {
   "display_name": "Python 3 (ipykernel)",
   "language": "python",
   "name": "python3"
  },
  "language_info": {
   "codemirror_mode": {
    "name": "ipython",
    "version": 3
   },
   "file_extension": ".py",
   "mimetype": "text/x-python",
   "name": "python",
   "nbconvert_exporter": "python",
   "pygments_lexer": "ipython3",
   "version": "3.9.13"
  }
 },
 "nbformat": 4,
 "nbformat_minor": 4
}
